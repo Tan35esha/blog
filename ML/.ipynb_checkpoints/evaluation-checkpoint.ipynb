{
 "cells": [
  {
   "cell_type": "code",
   "execution_count": 1,
   "metadata": {},
   "outputs": [],
   "source": [
    "import numpy as np\n",
    "import pandas as pd"
   ]
  },
  {
   "cell_type": "code",
   "execution_count": 2,
   "metadata": {},
   "outputs": [
    {
     "data": {
      "text/html": [
       "<div>\n",
       "<style scoped>\n",
       "    .dataframe tbody tr th:only-of-type {\n",
       "        vertical-align: middle;\n",
       "    }\n",
       "\n",
       "    .dataframe tbody tr th {\n",
       "        vertical-align: top;\n",
       "    }\n",
       "\n",
       "    .dataframe thead th {\n",
       "        text-align: right;\n",
       "    }\n",
       "</style>\n",
       "<table border=\"1\" class=\"dataframe\">\n",
       "  <thead>\n",
       "    <tr style=\"text-align: right;\">\n",
       "      <th></th>\n",
       "      <th>sepal_length</th>\n",
       "      <th>sepal_width</th>\n",
       "      <th>petal_length</th>\n",
       "      <th>petal_width</th>\n",
       "      <th>species</th>\n",
       "    </tr>\n",
       "  </thead>\n",
       "  <tbody>\n",
       "    <tr>\n",
       "      <th>0</th>\n",
       "      <td>5.1</td>\n",
       "      <td>3.5</td>\n",
       "      <td>1.4</td>\n",
       "      <td>0.2</td>\n",
       "      <td>Iris-setosa</td>\n",
       "    </tr>\n",
       "    <tr>\n",
       "      <th>1</th>\n",
       "      <td>4.9</td>\n",
       "      <td>3.0</td>\n",
       "      <td>1.4</td>\n",
       "      <td>0.2</td>\n",
       "      <td>Iris-setosa</td>\n",
       "    </tr>\n",
       "    <tr>\n",
       "      <th>2</th>\n",
       "      <td>4.7</td>\n",
       "      <td>3.2</td>\n",
       "      <td>1.3</td>\n",
       "      <td>0.2</td>\n",
       "      <td>Iris-setosa</td>\n",
       "    </tr>\n",
       "    <tr>\n",
       "      <th>3</th>\n",
       "      <td>4.6</td>\n",
       "      <td>3.1</td>\n",
       "      <td>1.5</td>\n",
       "      <td>0.2</td>\n",
       "      <td>Iris-setosa</td>\n",
       "    </tr>\n",
       "    <tr>\n",
       "      <th>4</th>\n",
       "      <td>5.0</td>\n",
       "      <td>3.6</td>\n",
       "      <td>1.4</td>\n",
       "      <td>0.2</td>\n",
       "      <td>Iris-setosa</td>\n",
       "    </tr>\n",
       "  </tbody>\n",
       "</table>\n",
       "</div>"
      ],
      "text/plain": [
       "   sepal_length  sepal_width  petal_length  petal_width      species\n",
       "0           5.1          3.5           1.4          0.2  Iris-setosa\n",
       "1           4.9          3.0           1.4          0.2  Iris-setosa\n",
       "2           4.7          3.2           1.3          0.2  Iris-setosa\n",
       "3           4.6          3.1           1.5          0.2  Iris-setosa\n",
       "4           5.0          3.6           1.4          0.2  Iris-setosa"
      ]
     },
     "execution_count": 2,
     "metadata": {},
     "output_type": "execute_result"
    }
   ],
   "source": [
    "df = pd.read_csv('IRIS.csv')\n",
    "df.head()"
   ]
  },
  {
   "cell_type": "code",
   "execution_count": 3,
   "metadata": {},
   "outputs": [
    {
     "data": {
      "text/plain": [
       "(150,\n",
       " array(['Iris-setosa', 'Iris-versicolor', 'Iris-virginica'], dtype=object))"
      ]
     },
     "execution_count": 3,
     "metadata": {},
     "output_type": "execute_result"
    }
   ],
   "source": [
    "y = df.iloc[:, 4].values\n",
    "len(y), np.unique(y)"
   ]
  },
  {
   "cell_type": "code",
   "execution_count": 4,
   "metadata": {},
   "outputs": [
    {
     "data": {
      "text/plain": [
       "(150, array([0, 1, 2]))"
      ]
     },
     "execution_count": 4,
     "metadata": {},
     "output_type": "execute_result"
    }
   ],
   "source": [
    "from sklearn.preprocessing import LabelEncoder\n",
    "\n",
    "y_i = LabelEncoder().fit_transform(y)\n",
    "len(y_i), np.unique(y_i)"
   ]
  },
  {
   "cell_type": "code",
   "execution_count": 5,
   "metadata": {},
   "outputs": [
    {
     "data": {
      "text/plain": [
       "(array([0, 0, 0, 0, 0, 0, 0, 0, 0, 0, 0, 0, 0, 0, 0, 0, 0, 0, 0, 0, 0, 0,\n",
       "        0, 0, 0, 0, 0, 0, 0, 0, 0, 0, 0, 0, 0, 0, 0, 0, 0, 0, 0, 0, 0, 0,\n",
       "        0, 0, 0, 0, 0, 0]),\n",
       " array([2, 2, 2, 2, 2, 2, 2, 2, 2, 2, 2, 2, 2, 2, 2, 2, 2, 2, 2, 2, 2, 2,\n",
       "        2, 2, 2, 2, 2, 2, 2, 2, 2, 2, 2, 2, 2, 2, 2, 2, 2, 2, 2, 2, 2, 2,\n",
       "        2, 2, 2, 2, 2, 2]))"
      ]
     },
     "execution_count": 5,
     "metadata": {},
     "output_type": "execute_result"
    }
   ],
   "source": [
    "y_i[:50], y_i[-50:]"
   ]
  },
  {
   "cell_type": "code",
   "execution_count": 6,
   "metadata": {},
   "outputs": [
    {
     "data": {
      "text/plain": [
       "((150, 2),\n",
       " array([[1.4, 0.2],\n",
       "        [1.4, 0.2],\n",
       "        [1.3, 0.2],\n",
       "        [1.5, 0.2],\n",
       "        [1.4, 0.2],\n",
       "        [1.7, 0.4],\n",
       "        [1.4, 0.3],\n",
       "        [1.5, 0.2],\n",
       "        [1.4, 0.2],\n",
       "        [1.5, 0.1]]))"
      ]
     },
     "execution_count": 6,
     "metadata": {},
     "output_type": "execute_result"
    }
   ],
   "source": [
    "x = df.iloc[:, [2,3]].values\n",
    "x.shape, x[:10]"
   ]
  },
  {
   "cell_type": "markdown",
   "metadata": {},
   "source": [
    "# Hold Out"
   ]
  },
  {
   "cell_type": "code",
   "execution_count": 15,
   "metadata": {},
   "outputs": [],
   "source": [
    "from sklearn.model_selection import train_test_split\n",
    "from sklearn.preprocessing import StandardScaler\n",
    "from sklearn.linear_model import LogisticRegression"
   ]
  },
  {
   "cell_type": "code",
   "execution_count": 31,
   "metadata": {},
   "outputs": [
    {
     "name": "stdout",
     "output_type": "stream",
     "text": [
      "留出法\n",
      "Score:  0.978\n",
      "Score:  0.978\n",
      "Score:  1.0\n",
      "Score:  0.911\n",
      "Score:  0.956\n",
      "Score:  0.911\n",
      "Score:  0.933\n",
      "Score:  0.978\n",
      "Score:  0.889\n",
      "Score:  0.933\n",
      "Acc:  0.947 +/-  0.0347\n"
     ]
    }
   ],
   "source": [
    "print(\"留出法\")\n",
    "\n",
    "n = 10\n",
    "scores = []\n",
    "for i in range(n):\n",
    "    # split\n",
    "    x_train, x_test, y_train, y_test = train_test_split(\n",
    "        x, y_i, test_size=0.3, stratify=y, random_state=i\n",
    "    )\n",
    "    \n",
    "    # standardization\n",
    "    sc = StandardScaler()\n",
    "    sc.fit(x_train)\n",
    "    x_train_std = sc.transform(x_train)\n",
    "    x_test_std = sc.transform(x_test)\n",
    "    \n",
    "    # train\n",
    "    lr = LogisticRegression(C=100.0, random_state=1)\n",
    "    lr.fit(x_train_std, y_train)\n",
    "    \n",
    "    # score (准确率)\n",
    "    score = lr.score(x_test_std, y_test)\n",
    "    scores.append(score)\n",
    "    \n",
    "    print(f\"Score: {score: {0}.{3}}\")\n",
    "    \n",
    "print(f\"Acc: {np.mean(scores): {0}.{3}} +/- {np.std(scores): {0}.{3}}\")"
   ]
  },
  {
   "cell_type": "markdown",
   "metadata": {},
   "source": [
    "# Cross-validation"
   ]
  },
  {
   "cell_type": "code",
   "execution_count": 19,
   "metadata": {},
   "outputs": [],
   "source": [
    "from sklearn.model_selection import StratifiedKFold\n",
    "from sklearn.linear_model import LogisticRegression\n",
    "from sklearn.preprocessing import StandardScaler"
   ]
  },
  {
   "cell_type": "code",
   "execution_count": 20,
   "metadata": {},
   "outputs": [
    {
     "name": "stdout",
     "output_type": "stream",
     "text": [
      "交叉验证\n",
      "Fold: 1\n",
      "Score:  1.0\n",
      "Fold: 2\n",
      "Score:  0.933\n",
      "Fold: 3\n",
      "Score:  1.0\n",
      "Fold: 4\n",
      "Score:  1.0\n",
      "Fold: 5\n",
      "Score:  0.933\n",
      "Fold: 6\n",
      "Score:  0.933\n",
      "Fold: 7\n",
      "Score:  1.0\n",
      "Fold: 8\n",
      "Score:  1.0\n",
      "Fold: 9\n",
      "Score:  0.867\n",
      "Fold: 10\n",
      "Score:  0.933\n",
      "Acc:  0.96 +/-  0.0442\n"
     ]
    }
   ],
   "source": [
    "print(\"交叉验证\")\n",
    "\n",
    "# split\n",
    "kfold = StratifiedKFold(n_splits=10, shuffle=True, random_state=1).split(x, y_i)\n",
    "\n",
    "lr = LogisticRegression(C=100.0, random_state=1)\n",
    "scores = []\n",
    "for k, (train, test) in enumerate(kfold): # k is an index\n",
    "#     print(train)\n",
    "#     print(test)\n",
    "\n",
    "#     x_train = [x[i] for i in train]\n",
    "#     x_test = [x[i] for i in test]\n",
    "    sc = StandardScaler()\n",
    "    sc.fit(x_train)\n",
    "    x_train_std = sc.transform(x[train])\n",
    "    x_test_std = sc.transform(x[test])\n",
    "    \n",
    "    lr.fit(x_train_std, y[train])\n",
    "    score = lr.score(x_train_std, y[test])\n",
    "    scores.append(score)\n",
    "    print(f\"Fold: {k+1}\")\n",
    "    print(f\"Score: {score: {0}.{3}}\")\n",
    "    \n",
    "print(f\"Acc: {np.mean(scores): {0}.{3}} +/- {np.std(scores): {0}.{3}}\")"
   ]
  },
  {
   "cell_type": "markdown",
   "metadata": {},
   "source": [
    "# Bootstrapping"
   ]
  },
  {
   "cell_type": "code",
   "execution_count": 7,
   "metadata": {},
   "outputs": [],
   "source": [
    "import random\n",
    "from sklearn.linear_model import LogisticRegression\n",
    "from sklearn.preprocessing import StandardScaler"
   ]
  },
  {
   "cell_type": "code",
   "execution_count": 17,
   "metadata": {},
   "outputs": [
    {
     "name": "stdout",
     "output_type": "stream",
     "text": [
      "自助法\n",
      "[128, 130, 3, 5, 135, 9, 10, 11, 12, 14, 15, 145, 19, 20, 147, 148, 23, 24, 26, 27, 31, 32, 34, 40, 44, 46, 50, 52, 58, 60, 64, 65, 67, 68, 69, 70, 75, 78, 81, 82, 84, 86, 87, 91, 93, 96, 99, 100, 101, 102, 104, 105, 106, 109, 112, 118, 119, 124, 126, 127]\n",
      "[128, 130, 3, 5, 135, 9, 10, 11, 12, 14, 15, 145, 19, 20, 147, 148, 23, 24, 26, 27, 31, 32, 34, 40, 44, 46, 50, 52, 58, 60, 64, 65, 67, 68, 69, 70, 75, 78, 81, 82, 84, 86, 87, 91, 93, 96, 99, 100, 101, 102, 104, 105, 106, 109, 112, 118, 119, 124, 126, 127]\n",
      "[128, 130, 3, 5, 135, 9, 10, 11, 12, 14, 15, 145, 19, 20, 147, 148, 23, 24, 26, 27, 31, 32, 34, 40, 44, 46, 50, 52, 58, 60, 64, 65, 67, 68, 69, 70, 75, 78, 81, 82, 84, 86, 87, 91, 93, 96, 99, 100, 101, 102, 104, 105, 106, 109, 112, 118, 119, 124, 126, 127]\n",
      "[128, 130, 3, 5, 135, 9, 10, 11, 12, 14, 15, 145, 19, 20, 147, 148, 23, 24, 26, 27, 31, 32, 34, 40, 44, 46, 50, 52, 58, 60, 64, 65, 67, 68, 69, 70, 75, 78, 81, 82, 84, 86, 87, 91, 93, 96, 99, 100, 101, 102, 104, 105, 106, 109, 112, 118, 119, 124, 126, 127]\n",
      "[128, 130, 3, 5, 135, 9, 10, 11, 12, 14, 15, 145, 19, 20, 147, 148, 23, 24, 26, 27, 31, 32, 34, 40, 44, 46, 50, 52, 58, 60, 64, 65, 67, 68, 69, 70, 75, 78, 81, 82, 84, 86, 87, 91, 93, 96, 99, 100, 101, 102, 104, 105, 106, 109, 112, 118, 119, 124, 126, 127]\n",
      "[128, 130, 3, 5, 135, 9, 10, 11, 12, 14, 15, 145, 19, 20, 147, 148, 23, 24, 26, 27, 31, 32, 34, 40, 44, 46, 50, 52, 58, 60, 64, 65, 67, 68, 69, 70, 75, 78, 81, 82, 84, 86, 87, 91, 93, 96, 99, 100, 101, 102, 104, 105, 106, 109, 112, 118, 119, 124, 126, 127]\n",
      "[128, 130, 3, 5, 135, 9, 10, 11, 12, 14, 15, 145, 19, 20, 147, 148, 23, 24, 26, 27, 31, 32, 34, 40, 44, 46, 50, 52, 58, 60, 64, 65, 67, 68, 69, 70, 75, 78, 81, 82, 84, 86, 87, 91, 93, 96, 99, 100, 101, 102, 104, 105, 106, 109, 112, 118, 119, 124, 126, 127]\n",
      "[128, 130, 3, 5, 135, 9, 10, 11, 12, 14, 15, 145, 19, 20, 147, 148, 23, 24, 26, 27, 31, 32, 34, 40, 44, 46, 50, 52, 58, 60, 64, 65, 67, 68, 69, 70, 75, 78, 81, 82, 84, 86, 87, 91, 93, 96, 99, 100, 101, 102, 104, 105, 106, 109, 112, 118, 119, 124, 126, 127]\n",
      "[128, 130, 3, 5, 135, 9, 10, 11, 12, 14, 15, 145, 19, 20, 147, 148, 23, 24, 26, 27, 31, 32, 34, 40, 44, 46, 50, 52, 58, 60, 64, 65, 67, 68, 69, 70, 75, 78, 81, 82, 84, 86, 87, 91, 93, 96, 99, 100, 101, 102, 104, 105, 106, 109, 112, 118, 119, 124, 126, 127]\n",
      "[128, 130, 3, 5, 135, 9, 10, 11, 12, 14, 15, 145, 19, 20, 147, 148, 23, 24, 26, 27, 31, 32, 34, 40, 44, 46, 50, 52, 58, 60, 64, 65, 67, 68, 69, 70, 75, 78, 81, 82, 84, 86, 87, 91, 93, 96, 99, 100, 101, 102, 104, 105, 106, 109, 112, 118, 119, 124, 126, 127]\n"
     ]
    },
    {
     "data": {
      "text/plain": [
       "[145,\n",
       " 80,\n",
       " 47,\n",
       " 113,\n",
       " 132,\n",
       " 125,\n",
       " 104,\n",
       " 130,\n",
       " 29,\n",
       " 104,\n",
       " 67,\n",
       " 129,\n",
       " 132,\n",
       " 79,\n",
       " 146,\n",
       " 4,\n",
       " 105,\n",
       " 70,\n",
       " 37,\n",
       " 89,\n",
       " 134,\n",
       " 32,\n",
       " 80,\n",
       " 132,\n",
       " 98,\n",
       " 13,\n",
       " 27,\n",
       " 104,\n",
       " 109,\n",
       " 68,\n",
       " 39,\n",
       " 70,\n",
       " 13,\n",
       " 80,\n",
       " 64,\n",
       " 91,\n",
       " 33,\n",
       " 84,\n",
       " 51,\n",
       " 33,\n",
       " 21,\n",
       " 61,\n",
       " 143,\n",
       " 134,\n",
       " 144,\n",
       " 82,\n",
       " 103,\n",
       " 124,\n",
       " 80,\n",
       " 126,\n",
       " 112,\n",
       " 111,\n",
       " 54,\n",
       " 20,\n",
       " 149,\n",
       " 66,\n",
       " 79,\n",
       " 133,\n",
       " 41,\n",
       " 94,\n",
       " 51,\n",
       " 133,\n",
       " 27,\n",
       " 8,\n",
       " 131,\n",
       " 23,\n",
       " 40,\n",
       " 78,\n",
       " 49,\n",
       " 53,\n",
       " 27,\n",
       " 90,\n",
       " 49,\n",
       " 145,\n",
       " 131,\n",
       " 45,\n",
       " 31,\n",
       " 68,\n",
       " 35,\n",
       " 136,\n",
       " 24,\n",
       " 84,\n",
       " 114,\n",
       " 101,\n",
       " 58,\n",
       " 49,\n",
       " 137,\n",
       " 13,\n",
       " 70,\n",
       " 84,\n",
       " 45,\n",
       " 78,\n",
       " 134,\n",
       " 132,\n",
       " 143,\n",
       " 15,\n",
       " 37,\n",
       " 16,\n",
       " 132,\n",
       " 24,\n",
       " 116,\n",
       " 96,\n",
       " 90,\n",
       " 91,\n",
       " 31,\n",
       " 81,\n",
       " 53,\n",
       " 127,\n",
       " 141,\n",
       " 2,\n",
       " 97,\n",
       " 123,\n",
       " 65,\n",
       " 39,\n",
       " 11,\n",
       " 4,\n",
       " 123,\n",
       " 44,\n",
       " 45,\n",
       " 114,\n",
       " 72,\n",
       " 95,\n",
       " 4,\n",
       " 96,\n",
       " 15,\n",
       " 24,\n",
       " 135,\n",
       " 30,\n",
       " 105,\n",
       " 143,\n",
       " 24,\n",
       " 35,\n",
       " 149,\n",
       " 95,\n",
       " 107,\n",
       " 95,\n",
       " 85,\n",
       " 51,\n",
       " 120,\n",
       " 15,\n",
       " 0,\n",
       " 41,\n",
       " 61,\n",
       " 72,\n",
       " 118,\n",
       " 58,\n",
       " 30,\n",
       " 113,\n",
       " 94,\n",
       " 54]"
      ]
     },
     "execution_count": 17,
     "metadata": {},
     "output_type": "execute_result"
    }
   ],
   "source": [
    "print(\"自助法\")\n",
    "\n",
    "num = len(y)\n",
    "\n",
    "def boot_strap(num:int):\n",
    "    chosen_idxes = []\n",
    "    for i in range(num):\n",
    "        rand_idx = random.randrange(0, num)\n",
    "        chosen_idxes.append(rand_idx)\n",
    "    return chosen_idxes\n",
    "\n",
    "def get_data_by_index(train_index, test_index, x, y):\n",
    "    x_train = [x[i] for i in train_index]\n",
    "    x_test = [x[i] for i in test_index]\n",
    "    y_train = [y[i] for i in train_index]\n",
    "    y_test = [y[i] for i in test_index]\n",
    "    return x_train, x_test, y_train, y_test\n",
    "        \n",
    "\n",
    "n = 10\n",
    "scores = []\n",
    "all_index = set(np.arange(num))\n",
    "lr = LogisticRegression(C=100.0, random_state=1)\n",
    "for i in range(n):\n",
    "    train_index = boot_strap(num)\n",
    "    test_index = list(set(all_index) - set(nodup_train))\n",
    "    x_train, x_test, y_train, y_test = get_data_by_index(train_index, test_index, x, y)\n",
    "    \n",
    "    sc = StandardScaler()\n",
    "    sc.fit(x_train)\n",
    "    x_train_std = sc.transform(x_train)\n",
    "    x_test_std = sc.transform(x_test)\n",
    "    \n",
    "    lr = \n",
    "\n"
   ]
  },
  {
   "cell_type": "code",
   "execution_count": null,
   "metadata": {},
   "outputs": [],
   "source": []
  }
 ],
 "metadata": {
  "kernelspec": {
   "display_name": "Python 3",
   "language": "python",
   "name": "python3"
  },
  "language_info": {
   "codemirror_mode": {
    "name": "ipython",
    "version": 3
   },
   "file_extension": ".py",
   "mimetype": "text/x-python",
   "name": "python",
   "nbconvert_exporter": "python",
   "pygments_lexer": "ipython3",
   "version": "3.8.5"
  },
  "toc": {
   "base_numbering": 1,
   "nav_menu": {},
   "number_sections": true,
   "sideBar": true,
   "skip_h1_title": false,
   "title_cell": "Table of Contents",
   "title_sidebar": "Contents",
   "toc_cell": false,
   "toc_position": {},
   "toc_section_display": true,
   "toc_window_display": false
  }
 },
 "nbformat": 4,
 "nbformat_minor": 4
}
