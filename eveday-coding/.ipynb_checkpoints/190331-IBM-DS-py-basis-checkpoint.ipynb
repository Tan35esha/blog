{
 "cells": [
  {
   "cell_type": "markdown",
   "metadata": {},
   "source": [
    "# Python for Data Science"
   ]
  },
  {
   "cell_type": "markdown",
   "metadata": {},
   "source": [
    "## str, int, float\n",
    "https://www.coursera.org/learn/python-for-applied-data-science/home/week/1\n",
    "\n",
    "## list, tuple, set, dictionary\n",
    "https://www.coursera.org/learn/python-for-applied-data-science/home/week/2\n",
    "\n",
    "## branch, loop, function, OOP\n",
    "https://www.coursera.org/learn/python-for-applied-data-science/home/week/3\n",
    "\n",
    "## files, pandas, numpy\n",
    "https://www.coursera.org/learn/python-for-applied-data-science/home/week/4"
   ]
  },
  {
   "cell_type": "markdown",
   "metadata": {},
   "source": [
    "## Mini Program - Make a Fake Album Cover Game with Web Scraping"
   ]
  },
  {
   "cell_type": "markdown",
   "metadata": {},
   "source": [
    "https://www.coursera.org/learn/python-for-applied-data-science/ungradedLti/DlQge/fake-album-cover-game-lab"
   ]
  },
  {
   "cell_type": "code",
   "execution_count": 1,
   "metadata": {},
   "outputs": [],
   "source": [
    "from IPython.display import Image as IPythonImage\n",
    "from PIL import Image\n",
    "from PIL import ImageFont\n",
    "from PIL import ImageDraw"
   ]
  },
  {
   "cell_type": "code",
   "execution_count": 24,
   "metadata": {},
   "outputs": [],
   "source": [
    "def auto_cover(rand_img_name='rand_img.png', \\\n",
    "               cover_out_name='cover_out.png',\\\n",
    "               title='Python',\\\n",
    "               subtitle='Data Science',\\\n",
    "               title_font_path=\"/share/fonts/COLONNA.TTF\",\\\n",
    "               subtitle_font_path=\"/share/fonts/COLONNA.TTF\",\\\n",
    "               outline_color =\"white\"):\n",
    "    \"\"\"\n",
    "    This fucntoin scrab random images from https://picsum.photos/500/500/?random,\n",
    "    and then superimpose text on the image.\n",
    "\n",
    "    input: \n",
    "        rand_img_name='rand_img.png'\n",
    "        cover_out_name='cover_out.png'\n",
    "        title='Python'\n",
    "        subtitle='Data Science'\n",
    "        title_font_path=\"/share/fonts/COLONNA.TTF\"\n",
    "        subtitle_font_path=\"/share/fonts/COLONNA.TTF\"\n",
    "        outline_color =\"white\"\n",
    "\n",
    "    output:\n",
    "        create a image with text titles on it\n",
    "        return NONE\n",
    "    \"\"\"\n",
    "\n",
    "    import requests\n",
    "\n",
    "    # scrab a random image and save it\n",
    "    rand_img = requests.get('https://picsum.photos/500/500/?random')\n",
    "    with open(rand_img_name, 'wb') as rand_img_raw:\n",
    "        rand_img_raw.write(rand_img.content)\n",
    "\n",
    "    # open the image and draw a copy\n",
    "    img = Image.open(rand_img_name)\n",
    "    draw = ImageDraw.Draw(img)\n",
    "\n",
    "    # set titles font\n",
    "    title_font = ImageFont.truetype(title_font_path, 100)   # pt of font\n",
    "    subtitle_font = ImageFont.truetype(subtitle_font_path, 80) # pt of font\n",
    "\n",
    "    # set titles location\n",
    "    title_x, title_y = 50, 50 \n",
    "    subtitle_x, subtitle_y = 50, 400\n",
    "    \n",
    "    # begin to draw\n",
    "    draw.text((title_x-3, title_y-3), title, font=title_font, fill=outline_color)\n",
    "    draw.text((title_x+3, title_y-3), title, font=title_font, fill=outline_color)\n",
    "    draw.text((title_x-3, title_y+3), title, font=title_font, fill=outline_color)\n",
    "    draw.text((title_x+3, title_y+3), title, font=title_font, fill=outline_color)\n",
    "\n",
    "    draw.text((subtitle_x-2, subtitle_y-2), subtitle, font=subtitle_font, fill=outline_color)\n",
    "    draw.text((subtitle_x+2, subtitle_y-2), subtitle, font=subtitle_font, fill=outline_color)\n",
    "    draw.text((subtitle_x-2, subtitle_y+2), subtitle, font=subtitle_font, fill=outline_color)\n",
    "    draw.text((subtitle_x+2, subtitle_y+2), subtitle, font=subtitle_font, fill=outline_color)\n",
    "\n",
    "    draw.text((title_x,title_y),title,(255,255,255),font=title_font)\n",
    "    draw.text((subtitle_x, subtitle_y),subtitle,(255,255,255),font=subtitle_font)\n",
    "\n",
    "    img.save(cover_out_name)"
   ]
  },
  {
   "cell_type": "code",
   "execution_count": 25,
   "metadata": {},
   "outputs": [],
   "source": [
    "auto_cover()"
   ]
  },
  {
   "cell_type": "code",
   "execution_count": null,
   "metadata": {},
   "outputs": [],
   "source": []
  }
 ],
 "metadata": {
  "kernelspec": {
   "display_name": "Python 3",
   "language": "python",
   "name": "python3"
  },
  "language_info": {
   "codemirror_mode": {
    "name": "ipython",
    "version": 3
   },
   "file_extension": ".py",
   "mimetype": "text/x-python",
   "name": "python",
   "nbconvert_exporter": "python",
   "pygments_lexer": "ipython3",
   "version": "3.7.2"
  }
 },
 "nbformat": 4,
 "nbformat_minor": 2
}
