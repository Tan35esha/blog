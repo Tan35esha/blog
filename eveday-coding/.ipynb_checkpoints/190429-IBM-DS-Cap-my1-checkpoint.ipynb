{
 "cells": [
  {
   "cell_type": "markdown",
   "metadata": {},
   "source": [
    "# The Battle of Neighborhoods - 1\n",
    "\n",
    "Now that you have been equipped with the skills and the tools to use location data to explore a geographical location, over the course of two weeks, you will have the opportunity to be as creative as you want and come up with an idea to leverage the Foursquare location data to explore or compare neighborhoods or cities of your choice or to come up with a problem that you can use the Foursquare location data to solve. If you cannot think of an idea or a problem, here are some ideas to get you started:\n",
    "\n",
    "- In Module 3, we explored New York City and the city of Toronto and segmented and clustered their neighborhoods. Both cities are very diverse and are the financial capitals of their respective countries. One interesting idea would be to compare the neighborhoods of the two cities and determine how similar or dissimilar they are. Is New York City more like Toronto or Paris or some other multicultural city? I will leave it to you to refine this idea.\n",
    "- In a city of your choice, if someone is looking to open a restaurant, where would you recommend that they open it? Similarly, if a contractor is trying to start their own business, where would you recommend that they setup their office?\n",
    "These are just a couple of many ideas and problems that can be solved using location data in addition to other datasets. No matter what you decide to do, make sure to provide sufficient justification of why you think what you want to do or solve is important and why would a client or a group of people be interested in your project.\n",
    "\n",
    "For this week, you will required to submit the following:\n",
    "\n",
    "1. A description of the problem and a discussion of the background. (15 marks)\n",
    "2. A description of the data and how it will be used to solve the problem. (15 marks)\n",
    "\n",
    "For the second week, the final deliverables of the project will be:\n",
    "\n",
    "1. A link to your Notebook on your Github repository, showing your code. (15 marks)\n",
    "2. A full report consisting of all of the following components (15 marks):\n",
    "    - Introduction where you discuss the business problem and who would be interested in this project.\n",
    "    - Data where you describe the data that will be used to solve the problem and the source of the data.\n",
    "    - Methodology section which represents the main component of the report where you discuss and describe any exploratory data analysis that you did, any inferential statistical testing that you performed, and what machine learnings were used and why.\n",
    "    - Results section where you discuss the results.\n",
    "    - Discussion section where you discuss any observations you noted and any recommendations you can make based on the results.\n",
    "    - Conclusion section where you conclude the report.\n",
    "3. Your choice of a presentation or blogpost. (10 marks)"
   ]
  },
  {
   "cell_type": "markdown",
   "metadata": {},
   "source": [
    "# A description of the problem and a discussion of the background"
   ]
  },
  {
   "cell_type": "markdown",
   "metadata": {},
   "source": [
    "As global warming becomes a buzz word today, more and more people are beginning to realize that individual diet can affect global warming, especially in developed countries. China is also making active efforts to reduce carbon emissions, but there are too few Chinese who realize that their diet will have an impact on the environment. So a lot of non profit organization want to poromote more environmentally friendly eating habits in China.\n",
    "\n",
    "While, China has a vast territory, and the consumption levels and consumption habits are affected by factors such as economic level and cultural characteristics in different regions. In some regions just entering the era of affluence, the level of meat consumption is rising rapidly; some areas are affected by geography and tradition, and have special dependence on certain meats; the animal industry in developed regions is reduced or removed to rural areas because of the increasingly strict environmental control...\n",
    "\n",
    "Chinese people are more likely to follow their traditional Chinese eating habits if the promotion of more environmentally friendly eating habits is not targeted to a particular region."
   ]
  },
  {
   "cell_type": "markdown",
   "metadata": {},
   "source": [
    "# A description of the data and how it will be used to solve the problem."
   ]
  },
  {
   "cell_type": "markdown",
   "metadata": {},
   "source": [
    "The data set about Chinese people's main food consumption comes from [China Statistics Bureau](http://www.stats.gov.cn/tjsj/ndsj/2018/indexch.htm). It shows per capita consumption of the main animal products, such as pork, beef, birds meat, aquatic product, egg and milk in differernt provinces of China.\n",
    "\n",
    "Then I will use Pyecharme to visualize data to see where people like to eat what kind of animals in China different provinces."
   ]
  },
  {
   "cell_type": "code",
   "execution_count": null,
   "metadata": {},
   "outputs": [],
   "source": []
  }
 ],
 "metadata": {
  "kernelspec": {
   "display_name": "Python 3",
   "language": "python",
   "name": "python3"
  },
  "language_info": {
   "codemirror_mode": {
    "name": "ipython",
    "version": 3
   },
   "file_extension": ".py",
   "mimetype": "text/x-python",
   "name": "python",
   "nbconvert_exporter": "python",
   "pygments_lexer": "ipython3",
   "version": "3.7.2"
  }
 },
 "nbformat": 4,
 "nbformat_minor": 2
}
