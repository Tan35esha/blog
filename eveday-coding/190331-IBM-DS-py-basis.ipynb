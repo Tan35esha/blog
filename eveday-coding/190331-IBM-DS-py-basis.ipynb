{
 "cells": [
  {
   "cell_type": "markdown",
   "metadata": {},
   "source": [
    "# Python for Data Science"
   ]
  },
  {
   "cell_type": "markdown",
   "metadata": {},
   "source": [
    "## str, int, float\n",
    "https://www.coursera.org/learn/python-for-applied-data-science/home/week/1\n",
    "\n",
    "## list, tuple, set, dictionary\n",
    "https://www.coursera.org/learn/python-for-applied-data-science/home/week/2\n",
    "\n",
    "## branch, loop, function, OOP\n",
    "https://www.coursera.org/learn/python-for-applied-data-science/home/week/3\n",
    "\n",
    "## files, pandas, numpy\n",
    "https://www.coursera.org/learn/python-for-applied-data-science/home/week/4"
   ]
  },
  {
   "cell_type": "markdown",
   "metadata": {},
   "source": [
    "## Mini Program - Make a Fake Album Cover Game with Web Scraping"
   ]
  },
  {
   "cell_type": "markdown",
   "metadata": {},
   "source": [
    "https://www.coursera.org/learn/python-for-applied-data-science/ungradedLti/DlQge/fake-album-cover-game-lab"
   ]
  },
  {
   "cell_type": "code",
   "execution_count": 14,
   "metadata": {},
   "outputs": [],
   "source": [
    "from IPython.display import Image as IPythonImage\n",
    "from PIL import Image\n",
    "from PIL import ImageFont\n",
    "from PIL import ImageDraw"
   ]
  },
  {
   "cell_type": "code",
   "execution_count": 23,
   "metadata": {},
   "outputs": [],
   "source": [
    "def auto_cover(rand_img_name='rand_img.png', \\\n",
    "               cover_out_name='cover_out.png',\\\n",
    "               title='Python',\\\n",
    "               subtitle='Data Science',\\\n",
    "               title_font_path=\"/share/fonts/COLONNA.TTF\",\\\n",
    "               subtitle_font_path=\"/share/fonts/COLONNA.TTF\",\\\n",
    "               outline_color =\"white\"):\n",
    "    \"\"\"\n",
    "    This fucntoin scrab random images from https://picsum.photos/500/500/?random,\n",
    "    and then superimpose text on the image.\n",
    "\n",
    "    input: \n",
    "        rand_img_name='rand_img.png'\n",
    "        cover_out_name='cover_out.png'\n",
    "        title='Python'\n",
    "        subtitle='Data Science'\n",
    "        title_font_path=\"/share/fonts/COLONNA.TTF\"\n",
    "        subtitle_font_path=\"/share/fonts/COLONNA.TTF\"\n",
    "        outline_color =\"white\"\n",
    "\n",
    "    output:\n",
    "        create a image with text titles on it\n",
    "        return NONE\n",
    "    \"\"\"\n",
    "\n",
    "    import requests\n",
    "\n",
    "    # scrab a random image and save it\n",
    "    rand_img = requests.get('https://picsum.photos/500/500/?random')\n",
    "    with open(rand_img_name, 'wb') as rand_img_raw:\n",
    "        rand_img_raw.write(rand_img.content)\n",
    "\n",
    "    # open the image and draw a copy\n",
    "    img = Image.open(rand_img_name)\n",
    "    draw = ImageDraw.Draw(img)\n",
    "\n",
    "    # set titles font\n",
    "    title_font = ImageFont.truetype(title_font_path, 50)   # pt of font\n",
    "    subtitle_font = ImageFont.truetype(subtitle_font_path, 30) # pt of font\n",
    "\n",
    "    # set titles location\n",
    "    title_x, title_y = 50, 50 \n",
    "    subtitle_x, subtitle_y = 50, 400\n",
    "    \n",
    "    # begin to draw\n",
    "    draw.text((title_x-2, title_y-2), title, font=title_font, fill=outline_color)\n",
    "    draw.text((title_x+2, title_y-2), title, font=title_font, fill=outline_color)\n",
    "    draw.text((title_x-2, title_y+2), title, font=title_font, fill=outline_color)\n",
    "    draw.text((title_x+2, title_y+2), title, font=title_font, fill=outline_color)\n",
    "\n",
    "    draw.text((subtitle_x-1, subtitle_y-1), subtitle, font=subtitle_font, fill=outline_color)\n",
    "    draw.text((subtitle_x+1, subtitle_y-1), subtitle, font=subtitle_font, fill=outline_color)\n",
    "    draw.text((subtitle_x-1, subtitle_y+1), subtitle, font=subtitle_font, fill=outline_color)\n",
    "    draw.text((subtitle_x+1, subtitle_y+1), subtitle, font=subtitle_font, fill=outline_color)\n",
    "\n",
    "    draw.text((title_x,title_y),title,(255,255,255),font=title_font)\n",
    "    draw.text((subtitle_x, subtitle_y),subtitle,(255,255,255),font=subtitle_font)\n",
    "\n",
    "    img.save(cover_out_name)"
   ]
  },
  {
   "cell_type": "code",
   "execution_count": 24,
   "metadata": {},
   "outputs": [],
   "source": [
    "def auto_title():\n",
    "    \"\"\"\n",
    "    Return a random wiki title as a string\n",
    "    \"\"\"\n",
    "    \n",
    "    import requests\n",
    "    \n",
    "    wikipedia_link='https://en.wikipedia.org/wiki/Special:Random'\n",
    "    rand_wiki = requests.get(wikipedia_link)\n",
    "    page = rand_wiki.text\n",
    "    start_index = page.find(\"<title>\") + len(\"<title>\")\n",
    "    stop_index = page.find(\"</title>\") - len(\" - Wikipedia\")\n",
    "    title = page[start_index:stop_index]\n",
    "    return title"
   ]
  },
  {
   "cell_type": "code",
   "execution_count": 25,
   "metadata": {},
   "outputs": [
    {
     "data": {
      "text/plain": [
       "'Abhinav Dixit'"
      ]
     },
     "execution_count": 25,
     "metadata": {},
     "output_type": "execute_result"
    }
   ],
   "source": [
    "band_title = auto_title()\n",
    "band_title"
   ]
  },
  {
   "cell_type": "code",
   "execution_count": 26,
   "metadata": {},
   "outputs": [
    {
     "data": {
      "text/plain": [
       "'Bulolo rainbowfish'"
      ]
     },
     "execution_count": 26,
     "metadata": {},
     "output_type": "execute_result"
    }
   ],
   "source": [
    "album_title = auto_title()\n",
    "album_title"
   ]
  },
  {
   "cell_type": "code",
   "execution_count": 27,
   "metadata": {},
   "outputs": [],
   "source": [
    "auto_cover(title = band_title, subtitle = album_title)"
   ]
  },
  {
   "cell_type": "code",
   "execution_count": null,
   "metadata": {},
   "outputs": [],
   "source": []
  }
 ],
 "metadata": {
  "kernelspec": {
   "display_name": "Python 3",
   "language": "python",
   "name": "python3"
  },
  "language_info": {
   "codemirror_mode": {
    "name": "ipython",
    "version": 3
   },
   "file_extension": ".py",
   "mimetype": "text/x-python",
   "name": "python",
   "nbconvert_exporter": "python",
   "pygments_lexer": "ipython3",
   "version": "3.7.2"
  }
 },
 "nbformat": 4,
 "nbformat_minor": 2
}
